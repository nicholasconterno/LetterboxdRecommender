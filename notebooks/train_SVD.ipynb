{
 "cells": [
  {
   "cell_type": "code",
   "execution_count": 8,
   "metadata": {},
   "outputs": [
    {
     "name": "stdout",
     "output_type": "stream",
     "text": [
      "15150737\n",
      "14161837\n",
      "Top recommended movies: ['saltburn', 'gone-girl', 'the-menu-2022', 'whiplash-2014', 'barbie', 'the-hunger-games-the-ballad-of-songbirds-snakes', 'fight-club', 'interstellar', 'la-la-land', 'black-swan']\n",
      "Top recommended movies: ['the-dark-knight', 'everything-everywhere-all-at-once', 'parasite-2019', 'the-social-network', 'whiplash-2014', 'arrival-2016', 'spider-man-into-the-spider-verse', 'top-gun-maverick', 'mission-impossible-fallout', 'no-country-for-old-men']\n"
     ]
    }
   ],
   "source": [
    "import sqlite3\n",
    "import pandas as pd\n",
    "from scipy.sparse import csr_matrix\n",
    "from sklearn.decomposition import TruncatedSVD\n",
    "from sklearn.metrics.pairwise import cosine_similarity\n",
    "\n",
    "# Connect to your SQLite database\n",
    "conn = sqlite3.connect('my_letterboxd_data.db')\n",
    "\n",
    "# Load ratings data\n",
    "query = \"\"\"\n",
    "SELECT username, movie_name, rating\n",
    "FROM users\n",
    "\"\"\"\n",
    "ratings_df = pd.read_sql(query, conn)\n",
    "ratings_df.dropna(subset=['rating'], inplace=True)\n",
    "ratings_df['rating'] = ratings_df['rating'].astype(float)\n",
    "ratings_df['username'] = ratings_df['username'].astype(str)\n",
    "ratings_df['movie_name'] = ratings_df['movie_name'].astype(str)\n",
    "\n",
    "query_movie_details = \"\"\"\n",
    "SELECT letterboxd_slug, movie_name, director, actors, genres\n",
    "FROM film_details_small\n",
    "\"\"\"\n",
    "movie_details_df = pd.read_sql(query_movie_details, conn)\n",
    "\n",
    "\n",
    "# Example of filtering out movies and users with fewer than a certain number of ratings\n",
    "min_movie_ratings = 25 # Movies with fewer than 10 ratings\n",
    "min_user_ratings = 50 # Users with fewer than 5 ratings\n",
    "print(len(ratings_df))\n",
    "filtered_ratings = ratings_df.groupby('movie_name').filter(lambda x: len(x) >= min_movie_ratings)\n",
    "filtered_ratings = filtered_ratings.groupby('username').filter(lambda x: len(x) >= min_user_ratings)\n",
    "# print('hello')\n",
    "# Proceed with the filtered_ratings DataFrame\n",
    "ratings_df = filtered_ratings\n",
    "print(len(ratings_df))\n",
    "conn.close()\n",
    "\n",
    "# split the data into training and testing\n",
    "from sklearn.model_selection import train_test_split\n",
    "\n",
    "# train test split usernames\n",
    "train_users, test_users = train_test_split(ratings_df['username'].unique(), test_size=0.2, random_state=42)\n",
    "\n",
    "# split the data into training and testing\n",
    "test_data = ratings_df[ratings_df['username'].isin(test_users)]\n",
    "ratings_df = ratings_df[ratings_df['username'].isin(train_users)]\n",
    "\n",
    "\n",
    "\n",
    "# Create a user-movie ratings matrix\n",
    "user_movie_ratings = ratings_df.pivot_table(index='username', columns='movie_name', values='rating').fillna(0)\n",
    "\n",
    "# Convert to sparse matrix\n",
    "ratings_matrix = csr_matrix(user_movie_ratings.values)\n",
    "\n",
    "# Apply SVD\n",
    "svd = TruncatedSVD(n_components=20) # You can adjust the number of components\n",
    "matrix_reduced = svd.fit_transform(ratings_matrix)\n",
    "\n",
    "# Compute similarity scores\n",
    "user_similarity = cosine_similarity(matrix_reduced)\n",
    "\n",
    "def predict_top_movies(user_index, top_k=10):\n",
    "    similarity_scores = list(enumerate(user_similarity[user_index]))\n",
    "    similarity_scores = sorted(similarity_scores, key=lambda x: x[1], reverse=True)\n",
    "    top_users_indices = [i[0] for i in similarity_scores[1:top_k+1]] # Skip self\n",
    "    top_users_ratings = user_movie_ratings.iloc[top_users_indices].mean(axis=0)\n",
    "    recommended_movies = top_users_ratings.sort_values(ascending=False).index.tolist()\n",
    "    return recommended_movies[:top_k]\n",
    "\n",
    "# Example usage\n",
    "user_index = 0 # Assuming you want recommendations for the first user in the dataset\n",
    "top_movies = predict_top_movies(user_index, top_k=10)\n",
    "print(f\"Top recommended movies: {top_movies}\")\n",
    "\n",
    "\n",
    "# print top predicted movies for specific user\n",
    "user_index = user_movie_ratings.index.get_loc('nconterno')\n",
    "top_movies = predict_top_movies(user_index, top_k=10)\n",
    "print(f\"Top recommended movies: {top_movies}\")\n"
   ]
  },
  {
   "cell_type": "code",
   "execution_count": 9,
   "metadata": {},
   "outputs": [],
   "source": [
    "conn = sqlite3.connect('my_letterboxd_data.db')\n",
    "query_movie_details = \"\"\"\n",
    "SELECT letterboxd_slug, movie_name, director, actors, genres\n",
    "FROM film_details_small\n",
    "\"\"\"\n",
    "movie_details_df = pd.read_sql(query_movie_details, conn)\n",
    "conn.close()\n",
    "\n",
    "#rename movie_name to  real_movie_name\n",
    "movie_details_df.rename(columns={'movie_name': 'real_movie_name'}, inplace=True)\n",
    "# rename letterboxd_slug to movie_name\n",
    "movie_details_df.rename(columns={'letterboxd_slug': 'movie_name'}, inplace=True)"
   ]
  },
  {
   "cell_type": "code",
   "execution_count": 10,
   "metadata": {},
   "outputs": [
    {
     "name": "stdout",
     "output_type": "stream",
     "text": [
      "ayoo\n",
      "ayoo2\n",
      "Top recommended movies: movie_name\n",
      "dune-part-two                     9.492958\n",
      "the-lord-of-the-rings-2003        9.454545\n",
      "the-best-of-youth                 9.428571\n",
      "the-big-city                      9.400000\n",
      "a-brighter-summer-day             9.375000\n",
      "                                    ...   \n",
      "scenes-from-a-marriage-2021       8.673913\n",
      "bo-burnham-inside                 8.671916\n",
      "the-hunt-2012                     8.669091\n",
      "marcel-the-shell-with-shoes-on    8.666667\n",
      "monster-2004                      8.666667\n",
      "Length: 100, dtype: float64\n"
     ]
    }
   ],
   "source": [
    "import numpy as np\n",
    "from tqdm import tqdm\n",
    "\n",
    "def predict_top_movies(user_index, top_k=10):\n",
    "    # Compute similarity scores with other users\n",
    "    similarity_scores = list(enumerate(user_similarity[user_index]))\n",
    "    # Sort users by similarity score in descending order (most similar first)\n",
    "    similarity_scores = sorted(similarity_scores, key=lambda x: x[1], reverse=True)\n",
    "\n",
    "    # Get indices of top_k similar users (excluding the user itself which is at index 0)\n",
    "    top_users_indices = []\n",
    "    for i in (range(1, 1000)):  # Considering top 999 similar users after excluding the user itself\n",
    "        top_users_indices.append(similarity_scores[i][0])\n",
    "    \n",
    "    # Select the ratings of these top users\n",
    "    top_users_ratings = user_movie_ratings.iloc[top_users_indices]\n",
    "\n",
    "    # Filter movies where less than 5 users rated it (non-zero ratings)\n",
    "    valid_movies = top_users_ratings.apply(lambda x: x > 0).sum(axis=0) >= 5\n",
    "    top_users_ratings = top_users_ratings.loc[:, valid_movies]\n",
    "\n",
    "    # Calculate the mean of ratings, ignoring zeros\n",
    "    recommended_movies = top_users_ratings.apply(lambda x: np.mean(x[x > 0]), axis=0)\n",
    "\n",
    "    # remove movies not in the movie_details_df\n",
    "    recommended_movies = recommended_movies[recommended_movies.index.isin(movie_details_df['movie_name'])]\n",
    "    print('ayoo')\n",
    "    # remove movies that are documentaries\n",
    "    recommended_movies = recommended_movies[~recommended_movies.index.isin(movie_details_df[movie_details_df['genres'].str.contains('Documentary')]['movie_name'])]\n",
    "\n",
    "    print('ayoo2')\n",
    "\n",
    "    # remove movies the user has already rated\n",
    "    user_rated_movies = user_movie_ratings.iloc[user_index]\n",
    "    recommended_movies = recommended_movies[~recommended_movies.index.isin(user_rated_movies[user_rated_movies > 0].index)]\n",
    "\n",
    "    # Sort the average ratings in descending order and select the top_k movies\n",
    "    recommended_movies = recommended_movies.sort_values(ascending=False)\n",
    "    return recommended_movies[:top_k]\n",
    "\n",
    "# Example usage\n",
    "user_index = user_movie_ratings.index.get_loc('nconterno')\n",
    "top_movies = predict_top_movies(user_index, top_k=100)\n",
    "print(f\"Top recommended movies: {top_movies}\")\n",
    "\n",
    "\n"
   ]
  },
  {
   "cell_type": "code",
   "execution_count": 11,
   "metadata": {},
   "outputs": [
    {
     "name": "stdout",
     "output_type": "stream",
     "text": [
      "(2800736, 3)\n",
      "ayoo\n",
      "ayoo2\n",
      "Top recommended movies for new user: movie_name\n",
      "monster-2004                                     9.700000\n",
      "the-lord-of-the-rings-2003                       9.695652\n",
      "high-and-low                                     9.636364\n",
      "the-red-shoes                                    9.600000\n",
      "the-holy-mountain                                9.571429\n",
      "                                                   ...   \n",
      "amadeus                                          8.972973\n",
      "the-silence-of-the-lambs                         8.965517\n",
      "the-batman                                       8.960739\n",
      "neon-genesis-evangelion-the-end-of-evangelion    8.960526\n",
      "logan-2017                                       8.956357\n",
      "Length: 100, dtype: float64\n"
     ]
    }
   ],
   "source": [
    "def predict_movies_for_new_user(new_user_ratings, top_k=10):\n",
    "    # Integrate new user ratings into the existing user-movie matrix\n",
    "    # Create a Series from the new user ratings, reindexing to match the columns of the existing matrix\n",
    "    new_user_series = pd.Series(new_user_ratings).reindex(user_movie_ratings.columns).fillna(0)\n",
    "    \n",
    "    # Append this user to the existing matrix and transform using the existing SVD model\n",
    "    new_user_vector = svd.transform(csr_matrix(new_user_series.values.reshape(1, -1)))\n",
    "\n",
    "    # Compute cosine similarity between this new user and all other users\n",
    "    new_user_similarity = cosine_similarity(new_user_vector, matrix_reduced).flatten()\n",
    "\n",
    "    # Exclude the new user's self-comparison and get indices of top similar users\n",
    "    top_users_indices = np.argsort(-new_user_similarity)[1:1000]\n",
    "    top_users_ratings = user_movie_ratings.iloc[top_users_indices]\n",
    "\n",
    "    # Filter movies where less than 5 users rated it (non-zero ratings)\n",
    "    valid_movies = top_users_ratings.apply(lambda x: x > 0).sum(axis=0) >= 5\n",
    "    top_users_ratings = top_users_ratings.loc[:, valid_movies]\n",
    "\n",
    "    # Calculate the mean of ratings, ignoring zeros\n",
    "    recommended_movies = top_users_ratings.apply(lambda x: np.mean(x[x > 0]), axis=0)\n",
    "\n",
    "    # remove movies not in the movie_details_df\n",
    "    recommended_movies = recommended_movies[recommended_movies.index.isin(movie_details_df['movie_name'])]\n",
    "    print('ayoo')\n",
    "    # remove movies that are documentaries\n",
    "    recommended_movies = recommended_movies[~recommended_movies.index.isin(movie_details_df[movie_details_df['genres'].str.contains('Documentary')]['movie_name'])]\n",
    "\n",
    "    print('ayoo2')\n",
    "\n",
    "    # remove movies the user has already rated\n",
    "    user_rated_movies = user_movie_ratings.iloc[user_index]\n",
    "    # recommended_movies = recommended_movies[~recommended_movies.index.isin(user_rated_movies[user_rated_movies > 0].index)]\n",
    "\n",
    "    # Sort the average ratings in descending order and select the top_k movies\n",
    "    recommended_movies = recommended_movies.sort_values(ascending=False)\n",
    "    return recommended_movies[:top_k]\n",
    "\n",
    "\n",
    "print(test_data.shape)\n",
    "test_user_movie_ratings = test_data.pivot_table(index='username', columns='movie_name', values='rating').fillna(0)\n",
    "# example usage from random user from test data\n",
    "test_user = test_user_movie_ratings.index[0]\n",
    "test_user_ratings = test_user_movie_ratings.loc[test_user]\n",
    "top_movies = predict_movies_for_new_user(test_user_ratings, top_k=100)\n",
    "print(f\"Top recommended movies for new user: {top_movies}\")\n"
   ]
  },
  {
   "cell_type": "code",
   "execution_count": 12,
   "metadata": {},
   "outputs": [
    {
     "name": "stderr",
     "output_type": "stream",
     "text": [
      "  0%|          | 0/10 [00:00<?, ?it/s]"
     ]
    },
    {
     "name": "stdout",
     "output_type": "stream",
     "text": [
      "ayoo\n",
      "ayoo2\n"
     ]
    },
    {
     "name": "stderr",
     "output_type": "stream",
     "text": [
      " 10%|█         | 1/10 [00:11<01:46, 11.83s/it]"
     ]
    },
    {
     "name": "stdout",
     "output_type": "stream",
     "text": [
      "ayoo\n",
      "ayoo2\n"
     ]
    },
    {
     "name": "stderr",
     "output_type": "stream",
     "text": [
      " 20%|██        | 2/10 [00:23<01:33, 11.69s/it]"
     ]
    },
    {
     "name": "stdout",
     "output_type": "stream",
     "text": [
      "ayoo\n",
      "ayoo2\n"
     ]
    },
    {
     "name": "stderr",
     "output_type": "stream",
     "text": [
      " 30%|███       | 3/10 [00:35<01:21, 11.70s/it]"
     ]
    },
    {
     "name": "stdout",
     "output_type": "stream",
     "text": [
      "ayoo\n",
      "ayoo2\n"
     ]
    },
    {
     "name": "stderr",
     "output_type": "stream",
     "text": [
      " 40%|████      | 4/10 [00:46<01:09, 11.59s/it]"
     ]
    },
    {
     "name": "stdout",
     "output_type": "stream",
     "text": [
      "ayoo\n",
      "ayoo2\n"
     ]
    },
    {
     "name": "stderr",
     "output_type": "stream",
     "text": [
      " 50%|█████     | 5/10 [00:58<00:59, 11.89s/it]"
     ]
    },
    {
     "name": "stdout",
     "output_type": "stream",
     "text": [
      "ayoo\n",
      "ayoo2\n"
     ]
    },
    {
     "name": "stderr",
     "output_type": "stream",
     "text": [
      " 60%|██████    | 6/10 [01:10<00:47, 11.80s/it]"
     ]
    },
    {
     "name": "stdout",
     "output_type": "stream",
     "text": [
      "ayoo\n",
      "ayoo2\n"
     ]
    },
    {
     "name": "stderr",
     "output_type": "stream",
     "text": [
      " 70%|███████   | 7/10 [01:22<00:35, 11.73s/it]"
     ]
    },
    {
     "name": "stdout",
     "output_type": "stream",
     "text": [
      "ayoo\n",
      "ayoo2\n"
     ]
    },
    {
     "name": "stderr",
     "output_type": "stream",
     "text": [
      " 80%|████████  | 8/10 [01:34<00:23, 11.77s/it]"
     ]
    },
    {
     "name": "stdout",
     "output_type": "stream",
     "text": [
      "ayoo\n",
      "ayoo2\n"
     ]
    },
    {
     "name": "stderr",
     "output_type": "stream",
     "text": [
      " 90%|█████████ | 9/10 [01:46<00:11, 11.83s/it]"
     ]
    },
    {
     "name": "stdout",
     "output_type": "stream",
     "text": [
      "ayoo\n",
      "ayoo2\n"
     ]
    },
    {
     "name": "stderr",
     "output_type": "stream",
     "text": [
      "100%|██████████| 10/10 [01:57<00:00, 11.75s/it]"
     ]
    },
    {
     "name": "stdout",
     "output_type": "stream",
     "text": [
      "Mean Absolute Error: 1.0259039890937587\n",
      "Mean Squared Error: 6.972756546019952\n",
      "Root Mean Squared Error: 2.640597763011238\n"
     ]
    },
    {
     "name": "stderr",
     "output_type": "stream",
     "text": [
      "\n"
     ]
    }
   ],
   "source": [
    "# using the test data to evaluate the model using MAE and MSE and predict_movies_for_new_user\n",
    "from sklearn.metrics import mean_absolute_error, mean_squared_error\n",
    "\n",
    "# for 100 users in the test data\n",
    "mae = []\n",
    "mse = []\n",
    "# unique movies in the test data\n",
    "unique_movies = test_data['movie_name'].unique()\n",
    "for i in tqdm(range(10)):\n",
    "    test_user = test_user_movie_ratings.index[i]\n",
    "    test_user_ratings = test_user_movie_ratings.loc[test_user]\n",
    "    top_movies = predict_movies_for_new_user(test_user_ratings, top_k=len(unique_movies))\n",
    "    # get error for the user\n",
    "    for movie in test_user_ratings.index:\n",
    "        if movie in top_movies.index:\n",
    "            mae.append(mean_absolute_error([test_user_ratings[movie]], [top_movies[movie]]))\n",
    "            mse.append(mean_squared_error([test_user_ratings[movie]], [top_movies[movie]]))\n",
    "        else:\n",
    "            mae.append(mean_absolute_error([test_user_ratings[movie]], [0]))\n",
    "            mse.append(mean_squared_error([test_user_ratings[movie]], [0]))\n",
    "\n",
    "print(f\"Mean Absolute Error: {np.mean(mae)}\")\n",
    "print(f\"Mean Squared Error: {np.mean(mse)}\")\n",
    "# print rmse\n",
    "print(f\"Root Mean Squared Error: {np.sqrt(np.mean(mse))}\")"
   ]
  }
 ],
 "metadata": {
  "kernelspec": {
   "display_name": "Python 3",
   "language": "python",
   "name": "python3"
  },
  "language_info": {
   "codemirror_mode": {
    "name": "ipython",
    "version": 3
   },
   "file_extension": ".py",
   "mimetype": "text/x-python",
   "name": "python",
   "nbconvert_exporter": "python",
   "pygments_lexer": "ipython3",
   "version": "3.9.6"
  },
  "orig_nbformat": 4
 },
 "nbformat": 4,
 "nbformat_minor": 2
}

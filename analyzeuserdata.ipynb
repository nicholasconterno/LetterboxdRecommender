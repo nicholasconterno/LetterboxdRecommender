{
 "cells": [
  {
   "cell_type": "code",
   "execution_count": 1,
   "metadata": {},
   "outputs": [
    {
     "name": "stdout",
     "output_type": "stream",
     "text": [
      "Average number of movies per user: 794.11\n"
     ]
    }
   ],
   "source": [
    "import sqlite3\n",
    "\n",
    "def calculate_average_movies_per_user():\n",
    "    conn = sqlite3.connect('my_letterboxd_data.db')\n",
    "    cursor = conn.cursor()\n",
    "\n",
    "    cursor.execute(\"\"\"\n",
    "        SELECT username, COUNT(*) as movie_count\n",
    "        FROM users\n",
    "        GROUP BY username\n",
    "    \"\"\")\n",
    "\n",
    "    total_users = 0\n",
    "    total_movies = 0\n",
    "\n",
    "    for username, movie_count in cursor:\n",
    "        total_users += 1\n",
    "        total_movies += movie_count\n",
    "\n",
    "    if total_users > 0:\n",
    "        average_movies = total_movies / total_users\n",
    "        print(f\"Average number of movies per user: {average_movies:.2f}\")\n",
    "    else:\n",
    "        print(\"No users found in the database.\")\n",
    "\n",
    "    conn.close()\n",
    "\n",
    "calculate_average_movies_per_user()\n"
   ]
  },
  {
   "cell_type": "code",
   "execution_count": 9,
   "metadata": {},
   "outputs": [
    {
     "name": "stdout",
     "output_type": "stream",
     "text": [
      "Average number of rated movies per user: 620.86\n"
     ]
    }
   ],
   "source": [
    "#find the average number of movies per user with a rating that is not null\n",
    "def calculate_average_rated_movies_per_user():\n",
    "    conn = sqlite3.connect('my_letterboxd_data.db')\n",
    "    cursor = conn.cursor()\n",
    "\n",
    "    cursor.execute(\"\"\"\n",
    "        SELECT username, COUNT(*) as movie_count\n",
    "        FROM users\n",
    "        WHERE rating IS NOT NULL\n",
    "        GROUP BY username\n",
    "    \"\"\")\n",
    "\n",
    "    total_users = 0\n",
    "    total_movies = 0\n",
    "\n",
    "    for username, movie_count in cursor:\n",
    "        total_users += 1\n",
    "        total_movies += movie_count\n",
    "\n",
    "    if total_users > 0:\n",
    "        average_movies = total_movies / total_users\n",
    "        print(f\"Average number of rated movies per user: {average_movies:.2f}\")\n",
    "    else:\n",
    "        print(\"No users found in the database.\")\n",
    "\n",
    "    conn.close()\n",
    "\n",
    "calculate_average_rated_movies_per_user()"
   ]
  },
  {
   "cell_type": "code",
   "execution_count": 10,
   "metadata": {},
   "outputs": [
    {
     "name": "stdout",
     "output_type": "stream",
     "text": [
      "('mmoorthy', 'mean-girls-2024', 6)\n",
      "('mmoorthy', 'anyone-but-you', 4)\n",
      "('mmoorthy', 'society-of-the-snow', 10)\n",
      "('mmoorthy', 'saltburn', 8)\n",
      "('mmoorthy', 'no-hard-feelings-2023', 4)\n"
     ]
    }
   ],
   "source": [
    "#print a few rows\n",
    "def print_rows():\n",
    "    conn = sqlite3.connect('my_letterboxd_data.db')\n",
    "    cursor = conn.cursor()\n",
    "\n",
    "    cursor.execute(\"\"\"\n",
    "        SELECT *\n",
    "        FROM users\n",
    "        LIMIT 5\n",
    "    \"\"\")\n",
    "\n",
    "    #fetch\n",
    "    rows = cursor.fetchall()[0:5]\n",
    "    for row in rows:\n",
    "        print(row)\n",
    "\n",
    "    conn.close()\n",
    "\n",
    "print_rows()"
   ]
  },
  {
   "cell_type": "code",
   "execution_count": 12,
   "metadata": {},
   "outputs": [
    {
     "name": "stdout",
     "output_type": "stream",
     "text": [
      "317550\n"
     ]
    }
   ],
   "source": [
    "conn = sqlite3.connect('my_letterboxd_data.db')\n",
    "cursor = conn.cursor()\n",
    "\n",
    "\n",
    "cursor.execute(\"SELECT DISTINCT movie_name FROM users\")\n",
    "films = cursor.fetchall()\n",
    "print(len(films))"
   ]
  }
 ],
 "metadata": {
  "kernelspec": {
   "display_name": "Python 3",
   "language": "python",
   "name": "python3"
  },
  "language_info": {
   "codemirror_mode": {
    "name": "ipython",
    "version": 3
   },
   "file_extension": ".py",
   "mimetype": "text/x-python",
   "name": "python",
   "nbconvert_exporter": "python",
   "pygments_lexer": "ipython3",
   "version": "3.9.6"
  },
  "orig_nbformat": 4
 },
 "nbformat": 4,
 "nbformat_minor": 2
}
